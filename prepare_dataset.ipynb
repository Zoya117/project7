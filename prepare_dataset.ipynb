{
 "cells": [
  {
   "cell_type": "code",
   "execution_count": null,
   "metadata": {},
   "outputs": [],
   "source": []
  },
  {
   "cell_type": "code",
   "execution_count": 6,
   "metadata": {},
   "outputs": [
    {
     "name": "stdout",
     "output_type": "stream",
     "text": [
      "The dataset already exists at data/transactions_test.csv\n"
     ]
    }
   ],
   "source": [
    "import sys\n",
    "import os\n",
    "import errno\n",
    "import zipfile\n",
    "from urllib.request import urlretrieve\n",
    "from shutil import rmtree\n",
    "\n",
    "\n",
    "output_filename = 'transactions_test.csv'\n",
    "dataset_url = 'https://onti-2019.s3-eu-central-1.amazonaws.com/public/data_v1.zip'\n",
    "\n",
    "output_file_path = 'data/' + output_filename\n",
    "if os.path.exists(output_file_path):\n",
    "    print('The dataset already exists at', output_file_path)\n",
    "else:\n",
    "    # Download locomotion dataset by Holden et  al.\n",
    "    print('Downloading dataset. (it may take a while)...')\n",
    "    zipdataset_path = 'data_v1.zip'\n",
    "    urlretrieve(dataset_url, zipdataset_path)\n",
    "    print('Extracting dataset...')\n",
    "    with zipfile.ZipFile(zipdataset_path, 'r') as archive:\n",
    "        archive.extractall()\n",
    "    os.remove(zipdataset_path) # Clean up\n",
    "    print('All done.')"
   ]
  },
  {
   "cell_type": "code",
   "execution_count": null,
   "metadata": {},
   "outputs": [],
   "source": []
  }
 ],
 "metadata": {
  "kernelspec": {
   "display_name": "Python 3",
   "language": "python",
   "name": "python3"
  },
  "language_info": {
   "codemirror_mode": {
    "name": "ipython",
    "version": 3
   },
   "file_extension": ".py",
   "mimetype": "text/x-python",
   "name": "python",
   "nbconvert_exporter": "python",
   "pygments_lexer": "ipython3",
   "version": "3.5.5"
  }
 },
 "nbformat": 4,
 "nbformat_minor": 2
}
